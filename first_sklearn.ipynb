{
 "cells": [
  {
   "cell_type": "code",
   "execution_count": 13,
   "metadata": {},
   "outputs": [],
   "source": [
    "### IMPORTING FILES WITH NATIVE LIB ###\n",
    "import csv\n",
    "\n",
    "with open(\"csv/currriculos.csv\", \"r\") as cur:\n",
    "    cur_csv = csv.reader(cur, delimiter=\",\")\n",
    "    for l in cur_csv:\n",
    "        print(l)"
   ]
  },
  {
   "cell_type": "code",
   "execution_count": 31,
   "metadata": {},
   "outputs": [
    {
     "data": {
      "text/plain": [
       "(4, 4)"
      ]
     },
     "execution_count": 31,
     "metadata": {},
     "output_type": "execute_result"
    }
   ],
   "source": [
    "### IMPORTING FILES WITH PANDAS ###\n",
    "import pandas as pd\n",
    "\n",
    "cur = pd.read_csv(\"csv/currriculos.csv\", sep=\",\")\n",
    "display(cur)"
   ]
  },
  {
   "cell_type": "code",
   "execution_count": 61,
   "metadata": {},
   "outputs": [],
   "source": [
    "## APLICAÇÃO DO ALGORITMO BAG OF WORDS + RANQUEAMENTO UTILIZANDO PALAVRAS CHAVE ##\n",
    "import pandas as pd\n",
    "from sklearn.feature_extraction.text import CountVectorizer\n",
    "\n",
    "# Seus dados fictícios\n",
    "data = pd.read_csv(\"csv/currriculos.csv\", sep=\",\")\n",
    "\n",
    "# Criar um DataFrame a partir dos dados fictícios\n",
    "df = pd.DataFrame(data)\n",
    "\n",
    "# Conhecimentos, Habilidades e Atitudes\n",
    "conhecimentos = [\"python\", \"graduação\", \"estruturas de dados\", \"desenvolvimento ágil\", \"bancos de dados\"]\n",
    "habilidades = [\"design escalável\", \"depuração\", \"integração de APIs\", \"testes de unidade\", \"comunicação\", \"liderança\"]\n",
    "atitudes = [\"comprometimento\", \"aprendizado contínuo\", \"adaptabilidade\", \"trabalho em equipe\", \"ética\"]\n",
    "cha = conhecimentos + habilidades + atitudes\n",
    "\n",
    "# Inicializar o vetorizador Bag of Words\n",
    "vectorizer = CountVectorizer()\n",
    "\n",
    "# Inicializar as colunas de pontuação\n",
    "df[\"Pontuacao_Conhecimentos\"] = 0\n",
    "df[\"Pontuacao_Habilidades\"] = 0\n",
    "df[\"Pontuacao_Atitudes\"] = 0\n",
    "\n",
    "# Percorrer cada palavra-chave de conhecimento, habilidade e atitude\n",
    "for palavra_chave in conhecimentos + habilidades + atitudes:\n",
    "    # Verificar se a palavra-chave está presente nas experiências dos candidatos\n",
    "    df[palavra_chave] = df[\"Experiencia\"].str.contains(palavra_chave, case=False, regex=True).astype(int)\n",
    "    \n",
    "    # Atualizar a pontuação correspondente para cada candidato\n",
    "    if palavra_chave in conhecimentos:\n",
    "        df[\"Pontuacao_Conhecimentos\"] += df[palavra_chave]\n",
    "    elif palavra_chave in habilidades:\n",
    "        df[\"Pontuacao_Habilidades\"] += df[palavra_chave]\n",
    "    elif palavra_chave in atitudes:\n",
    "        df[\"Pontuacao_Atitudes\"] += df[palavra_chave]\n",
    "\n",
    "# Calcular a pontuação total para cada candidato\n",
    "df[\"Pontuacao_Total\"] = df[\"Pontuacao_Conhecimentos\"] + df[\"Pontuacao_Habilidades\"] + df[\"Pontuacao_Atitudes\"]\n",
    "\n",
    "# Classificar os candidatos por pontuação total em ordem decrescente\n",
    "df_classificado = df.sort_values(by=\"Pontuacao_Total\", ascending=False)\n",
    "\n",
    "# Salvar o resultado em um arquivo CSV com todas as informações\n",
    "df_classificado.to_csv(\"csv/results/1_curriculos_classificados_com_critérios.csv\", index=False)\n",
    "\n",
    "# Criar um DataFrame com a quantidade total de conhecimento, habilidade e atitude de cada pessoa\n",
    "df_total = df[[\"Nome\", \"Pontuacao_Conhecimentos\", \"Pontuacao_Habilidades\", \"Pontuacao_Atitudes\", \"Pontuacao_Total\"]].sort_values(by=\"Pontuacao_Total\", ascending=False)\n",
    "\n",
    "# Salvar o resultado em um arquivo CSV separado\n",
    "df_total.to_csv(\"csv/results/2_quantidade_total_conhecimento_habilidade_atitude.csv\", index=False)"
   ]
  }
 ],
 "metadata": {
  "kernelspec": {
   "display_name": "env",
   "language": "python",
   "name": "python3"
  },
  "language_info": {
   "codemirror_mode": {
    "name": "ipython",
    "version": 3
   },
   "file_extension": ".py",
   "mimetype": "text/x-python",
   "name": "python",
   "nbconvert_exporter": "python",
   "pygments_lexer": "ipython3",
   "version": "3.11.5"
  },
  "orig_nbformat": 4
 },
 "nbformat": 4,
 "nbformat_minor": 2
}
